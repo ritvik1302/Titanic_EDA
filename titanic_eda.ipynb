{
 "cells": [
  {
   "cell_type": "code",
   "execution_count": 9,
   "id": "dfb043f3-f79c-45db-9d0e-8ef91910a6d7",
   "metadata": {},
   "outputs": [],
   "source": [
    "import pandas as pd\n",
    "import matplotlib.pyplot as plt\n",
    "import seaborn as sns\n",
    "from scipy.stats import chi2_contingency"
   ]
  },
  {
   "cell_type": "markdown",
   "id": "39f6b7d9",
   "metadata": {},
   "source": [
    "Description of the dataset and a summary of its attributes"
   ]
  },
  {
   "cell_type": "code",
   "execution_count": 10,
   "id": "d9ebd958-e1e5-4197-97cc-11970471387c",
   "metadata": {},
   "outputs": [
    {
     "name": "stdout",
     "output_type": "stream",
     "text": [
      "Dataset Summary:\n",
      "<class 'pandas.core.frame.DataFrame'>\n",
      "RangeIndex: 891 entries, 0 to 890\n",
      "Data columns (total 12 columns):\n",
      " #   Column       Non-Null Count  Dtype  \n",
      "---  ------       --------------  -----  \n",
      " 0   PassengerId  891 non-null    int64  \n",
      " 1   Survived     891 non-null    int64  \n",
      " 2   Pclass       891 non-null    int64  \n",
      " 3   Name         891 non-null    object \n",
      " 4   Sex          891 non-null    object \n",
      " 5   Age          714 non-null    float64\n",
      " 6   SibSp        891 non-null    int64  \n",
      " 7   Parch        891 non-null    int64  \n",
      " 8   Ticket       891 non-null    object \n",
      " 9   Fare         891 non-null    float64\n",
      " 10  Cabin        204 non-null    object \n",
      " 11  Embarked     889 non-null    object \n",
      "dtypes: float64(2), int64(5), object(5)\n",
      "memory usage: 83.7+ KB\n",
      "None\n"
     ]
    }
   ],
   "source": [
    "titanic_df = pd.read_csv('train.csv')\n",
    "print(\"Dataset Summary:\")\n",
    "print(titanic_df.info())"
   ]
  },
  {
   "cell_type": "markdown",
   "id": "b9d06eb4",
   "metadata": {},
   "source": [
    "Plan for data exploration\n",
    "1. Taking care of missing values\n",
    "2. Feature encoding"
   ]
  },
  {
   "cell_type": "code",
   "execution_count": 11,
   "id": "d34d0b50-86a2-4f3b-a578-629d39c21757",
   "metadata": {},
   "outputs": [
    {
     "name": "stdout",
     "output_type": "stream",
     "text": [
      "\n",
      "Data Exploration:\n",
      "Number of rows and columns: (891, 12)\n",
      "\n",
      "Summary Statistics:\n",
      "       PassengerId    Survived      Pclass         Age       SibSp  \\\n",
      "count   891.000000  891.000000  891.000000  714.000000  891.000000   \n",
      "mean    446.000000    0.383838    2.308642   29.699118    0.523008   \n",
      "std     257.353842    0.486592    0.836071   14.526497    1.102743   \n",
      "min       1.000000    0.000000    1.000000    0.420000    0.000000   \n",
      "25%     223.500000    0.000000    2.000000   20.125000    0.000000   \n",
      "50%     446.000000    0.000000    3.000000   28.000000    0.000000   \n",
      "75%     668.500000    1.000000    3.000000   38.000000    1.000000   \n",
      "max     891.000000    1.000000    3.000000   80.000000    8.000000   \n",
      "\n",
      "            Parch        Fare  \n",
      "count  891.000000  891.000000  \n",
      "mean     0.381594   32.204208  \n",
      "std      0.806057   49.693429  \n",
      "min      0.000000    0.000000  \n",
      "25%      0.000000    7.910400  \n",
      "50%      0.000000   14.454200  \n",
      "75%      0.000000   31.000000  \n",
      "max      6.000000  512.329200  \n",
      "\n",
      "Head of the DataFrame:\n",
      "   PassengerId  Survived  Pclass  \\\n",
      "0            1         0       3   \n",
      "1            2         1       1   \n",
      "2            3         1       3   \n",
      "3            4         1       1   \n",
      "4            5         0       3   \n",
      "\n",
      "                                                Name     Sex   Age  SibSp  \\\n",
      "0                            Braund, Mr. Owen Harris    male  22.0      1   \n",
      "1  Cumings, Mrs. John Bradley (Florence Briggs Th...  female  38.0      1   \n",
      "2                             Heikkinen, Miss. Laina  female  26.0      0   \n",
      "3       Futrelle, Mrs. Jacques Heath (Lily May Peel)  female  35.0      1   \n",
      "4                           Allen, Mr. William Henry    male  35.0      0   \n",
      "\n",
      "   Parch            Ticket     Fare Cabin Embarked  \n",
      "0      0         A/5 21171   7.2500   NaN        S  \n",
      "1      0          PC 17599  71.2833   C85        C  \n",
      "2      0  STON/O2. 3101282   7.9250   NaN        S  \n",
      "3      0            113803  53.1000  C123        S  \n",
      "4      0            373450   8.0500   NaN        S  \n"
     ]
    }
   ],
   "source": [
    "print(\"\\nData Exploration:\")\n",
    "print(\"Number of rows and columns:\", titanic_df.shape)\n",
    "print(\"\\nSummary Statistics:\")\n",
    "print(titanic_df.describe())\n",
    "print(\"\\nHead of the DataFrame:\")\n",
    "print(titanic_df.head())"
   ]
  },
  {
   "cell_type": "markdown",
   "id": "2c743a47",
   "metadata": {},
   "source": [
    "Let's handle missing values in 'Age' and 'Embarked' columns"
   ]
  },
  {
   "cell_type": "code",
   "execution_count": 12,
   "id": "ca6283e3-2c68-48de-bbde-3b3f0b9932d0",
   "metadata": {},
   "outputs": [],
   "source": [
    "titanic_df['Age'].fillna(titanic_df['Age'].mean(), inplace=True)\n",
    "titanic_df['Embarked'].fillna(titanic_df['Embarked'].mode()[0], inplace=True)"
   ]
  },
  {
   "cell_type": "markdown",
   "id": "9e63ce6b",
   "metadata": {},
   "source": [
    "\n",
    "Let's convert categorical variables into numerical representations"
   ]
  },
  {
   "cell_type": "code",
   "execution_count": 13,
   "id": "40ea1b21",
   "metadata": {},
   "outputs": [],
   "source": [
    "sex_mapping = {'male': 0, 'female': 1}\n",
    "titanic_df['Sex'] = titanic_df['Sex'].map(sex_mapping)\n",
    "\n",
    "embarked_mapping = {'C': 0, 'Q': 1, 'S': 2}\n",
    "titanic_df['Embarked'] = titanic_df['Embarked'].map(embarked_mapping)"
   ]
  },
  {
   "cell_type": "markdown",
   "id": "b163dd50",
   "metadata": {},
   "source": [
    "Key Findings and Insights"
   ]
  },
  {
   "cell_type": "code",
   "execution_count": 14,
   "id": "3b9b0558-d483-4747-8de8-0c3dfc577786",
   "metadata": {},
   "outputs": [
    {
     "name": "stdout",
     "output_type": "stream",
     "text": [
      "\n",
      "Key Findings and Insights:\n",
      "Survival Rate by Sex:\n",
      "Sex\n",
      "0    0.188908\n",
      "1    0.742038\n",
      "Name: Survived, dtype: float64\n",
      "\n",
      "Survival Rate by Ticket Class:\n",
      "Pclass\n",
      "1    0.629630\n",
      "2    0.472826\n",
      "3    0.242363\n",
      "Name: Survived, dtype: float64\n"
     ]
    }
   ],
   "source": [
    "print(\"\\nKey Findings and Insights:\")\n",
    "\n",
    "survival_by_sex = titanic_df.groupby('Sex')['Survived'].mean()\n",
    "print(\"Survival Rate by Sex:\")\n",
    "print(survival_by_sex)\n",
    "\n",
    "survival_by_pclass = titanic_df.groupby('Pclass')['Survived'].mean()\n",
    "print(\"\\nSurvival Rate by Ticket Class:\")\n",
    "print(survival_by_pclass)"
   ]
  },
  {
   "cell_type": "markdown",
   "id": "a927a595",
   "metadata": {},
   "source": [
    "Visualization of the distribution of age among survivors and non-survivors"
   ]
  },
  {
   "cell_type": "code",
   "execution_count": 15,
   "id": "3e99bad9",
   "metadata": {},
   "outputs": [
    {
     "data": {
      "image/png": "[encoded data removed]",
      "text/plain": [
       "<Figure size 800x600 with 1 Axes>"
      ]
     },
     "metadata": {},
     "output_type": "display_data"
    }
   ],
   "source": [
    "plt.figure(figsize=(8, 6))\n",
    "sns.histplot(data=titanic_df, x='Age', hue='Survived', bins=30, kde=True)\n",
    "plt.title('Distribution of Age among Survivors and Non-Survivors')\n",
    "plt.xlabel('Age')\n",
    "plt.ylabel('Count')\n",
    "plt.legend(title='Survived', labels=['No', 'Yes'])\n",
    "plt.show()"
   ]
  },
  {
   "cell_type": "markdown",
   "id": "0aff3b2f",
   "metadata": {},
   "source": [
    "Formulated hypotheses about this data:\n",
    "\n",
    "    Hypothesis 1: Passengers in higher classes (Pclass = 1) had a higher chance of survival.\n",
    "\n",
    "    Hypothesis 2: Female passengers had a higher chance of survival than male passengers.\n",
    "\n",
    "    Hypothesis 3: Passengers who boarded from Cherbourg (Embarked = 0) had a higher chance of survival."
   ]
  },
  {
   "cell_type": "markdown",
   "id": "b71e9d54",
   "metadata": {},
   "source": [
    "Let's conduct a significance test to examine the relationship between sex and survival."
   ]
  },
  {
   "cell_type": "code",
   "execution_count": 16,
   "id": "54195738-4cce-45e4-adf2-4b6cf1b1de01",
   "metadata": {},
   "outputs": [
    {
     "name": "stdout",
     "output_type": "stream",
     "text": [
      "\n",
      "Significance Test (Sex vs. Survival):\n",
      "Chi-Square Statistic: 260.71702016732104\n",
      "P-value: 1.1973570627755645e-58\n",
      "The relationship between sex and survival is statistically significant.\n"
     ]
    }
   ],
   "source": [
    "contingency_table = pd.crosstab(titanic_df['Sex'], titanic_df['Survived'])\n",
    "chi2, p_value, _, _ = chi2_contingency(contingency_table)\n",
    "\n",
    "print(\"\\nSignificance Test (Sex vs. Survival):\")\n",
    "print(\"Chi-Square Statistic:\", chi2)\n",
    "print(\"P-value:\", p_value)\n",
    "\n",
    "if p_value < 0.05:\n",
    "    print(\"The relationship between sex and survival is statistically significant.\")\n",
    "else:\n",
    "    print(\"The relationship between sex and survival is not statistically significant.\")\n"
   ]
  }
 ],
 "metadata": {
  "kernelspec": {
   "display_name": "Python 3 (ipykernel)",
   "language": "python",
   "name": "python3"
  },
  "language_info": {
   "codemirror_mode": {
    "name": "ipython",
    "version": 3
   },
   "file_extension": ".py",
   "mimetype": "text/x-python",
   "name": "python",
   "nbconvert_exporter": "python",
   "pygments_lexer": "ipython3",
   "version": "3.10.11"
  }
 },
 "nbformat": 4,
 "nbformat_minor": 5
}
